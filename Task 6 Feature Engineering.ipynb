{
 "cells": [
  {
   "cell_type": "markdown",
   "id": "cc9bcbd1-e144-42b0-8b3c-4e45acc62fa0",
   "metadata": {},
   "source": [
    "# Task: Feature Engineering"
   ]
  },
  {
   "cell_type": "code",
   "execution_count": 1,
   "id": "f3602893-3497-4351-980d-4b8418c06742",
   "metadata": {},
   "outputs": [
    {
     "name": "stdout",
     "output_type": "stream",
     "text": [
      "Restaurant ID           0\n",
      "Restaurant Name         0\n",
      "Country Code            0\n",
      "City                    0\n",
      "Address                 0\n",
      "Locality                0\n",
      "Locality Verbose        0\n",
      "Longitude               0\n",
      "Latitude                0\n",
      "Cuisines                0\n",
      "Average Cost for two    0\n",
      "Currency                0\n",
      "Has Table booking       0\n",
      "Has Online delivery     0\n",
      "Is delivering now       0\n",
      "Switch to order menu    0\n",
      "Price range             0\n",
      "Aggregate rating        0\n",
      "Rating color            0\n",
      "Rating text             0\n",
      "Votes                   0\n",
      "dtype: int64\n",
      "Restaurant ID              int64\n",
      "Restaurant Name         category\n",
      "Country Code               int64\n",
      "City                    category\n",
      "Address                 category\n",
      "Locality                category\n",
      "Locality Verbose        category\n",
      "Longitude                float64\n",
      "Latitude                 float64\n",
      "Cuisines                category\n",
      "Average Cost for two       int64\n",
      "Currency                category\n",
      "Has Table booking           bool\n",
      "Has Online delivery         bool\n",
      "Is delivering now           bool\n",
      "Switch to order menu        bool\n",
      "Price range                int64\n",
      "Aggregate rating         float64\n",
      "Rating color            category\n",
      "Rating text             category\n",
      "Votes                      int64\n",
      "dtype: object\n"
     ]
    }
   ],
   "source": [
    "import pandas as pd\n",
    "df = pd.read_csv('Dataset .csv')\n",
    "\n",
    "#handle missing values\n",
    "# Replace NaN values in 'Cuisines' column with the mode of the column\n",
    "df['Cuisines'] = df['Cuisines'].fillna(df['Cuisines'].mode()[0])\n",
    "missing_values = df.isnull().sum()\n",
    "print(missing_values)\n",
    "\n",
    "# Convert categorical columns to 'category' type\n",
    "categorical_columns = [ \"Restaurant Name\", \"City\", \"Address\", \"Locality\", \"Locality Verbose\",\"Cuisines\", \"Currency\", \"Rating color\", \"Rating text\" ]\n",
    "df[categorical_columns] = df[categorical_columns].astype('category')\n",
    "\n",
    "# Convert binary columns to boolean type (assuming \"Yes\"/\"No\" values)\n",
    "binary_columns = [\"Has Table booking\", \"Has Online delivery\", \"Is delivering now\", \"Switch to order menu\"]\n",
    "df[binary_columns] = df[binary_columns].map(lambda x: True if x == \"Yes\" else False)\n",
    "print(df.dtypes)"
   ]
  },
  {
   "cell_type": "markdown",
   "id": "0308c63c-94ab-4d0a-be3f-d125a66adac2",
   "metadata": {},
   "source": [
    "### 1. Extracting additional features from the existing columns"
   ]
  },
  {
   "cell_type": "code",
   "execution_count": 4,
   "id": "5ff31f99-031b-46ba-b1bb-50992f3c8488",
   "metadata": {},
   "outputs": [
    {
     "name": "stdout",
     "output_type": "stream",
     "text": [
      "   Restaurant Name Length  Address Length  Has Table booking  \\\n",
      "0                      16              71               True   \n",
      "1                      16              67               True   \n",
      "2                      22              56               True   \n",
      "3                       4              70              False   \n",
      "4                      11              64               True   \n",
      "\n",
      "   Has Online delivery  \n",
      "0                False  \n",
      "1                False  \n",
      "2                False  \n",
      "3                False  \n",
      "4                False  \n"
     ]
    }
   ],
   "source": [
    "# Extract the length of the restaurant name\n",
    "df['Restaurant Name Length'] = df['Restaurant Name'].apply(len)\n",
    "\n",
    "# Extract the length of the address\n",
    "df['Address Length'] = df['Address'].apply(len)\n",
    "\n",
    "print(df[['Restaurant Name Length', 'Address Length', 'Has Table booking', 'Has Online delivery']].head())"
   ]
  },
  {
   "cell_type": "markdown",
   "id": "09dfcef2-1425-4e37-89a1-3470f6157b91",
   "metadata": {},
   "source": [
    "### 2. Creating new features by encoding categorical variables"
   ]
  },
  {
   "cell_type": "code",
   "execution_count": 5,
   "id": "aaa19b36-673a-4d89-8875-239256e037a2",
   "metadata": {},
   "outputs": [
    {
     "name": "stdout",
     "output_type": "stream",
     "text": [
      "   Restaurant ID         Restaurant Name  Country Code              City  \\\n",
      "0        6317637        Le Petit Souffle           162       Makati City   \n",
      "1        6304287        Izakaya Kikufuji           162       Makati City   \n",
      "2        6300002  Heat - Edsa Shangri-La           162  Mandaluyong City   \n",
      "3        6318506                    Ooma           162  Mandaluyong City   \n",
      "4        6314302             Sambo Kojin           162  Mandaluyong City   \n",
      "\n",
      "                                             Address  \\\n",
      "0  Third Floor, Century City Mall, Kalayaan Avenu...   \n",
      "1  Little Tokyo, 2277 Chino Roces Avenue, Legaspi...   \n",
      "2  Edsa Shangri-La, 1 Garden Way, Ortigas, Mandal...   \n",
      "3  Third Floor, Mega Fashion Hall, SM Megamall, O...   \n",
      "4  Third Floor, Mega Atrium, SM Megamall, Ortigas...   \n",
      "\n",
      "                                     Locality  \\\n",
      "0   Century City Mall, Poblacion, Makati City   \n",
      "1  Little Tokyo, Legaspi Village, Makati City   \n",
      "2  Edsa Shangri-La, Ortigas, Mandaluyong City   \n",
      "3      SM Megamall, Ortigas, Mandaluyong City   \n",
      "4      SM Megamall, Ortigas, Mandaluyong City   \n",
      "\n",
      "                                    Locality Verbose   Longitude   Latitude  \\\n",
      "0  Century City Mall, Poblacion, Makati City, Mak...  121.027535  14.565443   \n",
      "1  Little Tokyo, Legaspi Village, Makati City, Ma...  121.014101  14.553708   \n",
      "2  Edsa Shangri-La, Ortigas, Mandaluyong City, Ma...  121.056831  14.581404   \n",
      "3  SM Megamall, Ortigas, Mandaluyong City, Mandal...  121.056475  14.585318   \n",
      "4  SM Megamall, Ortigas, Mandaluyong City, Mandal...  121.057508  14.584450   \n",
      "\n",
      "                           Cuisines  ...  Switch to order menu Price range  \\\n",
      "0        French, Japanese, Desserts  ...                 False           3   \n",
      "1                          Japanese  ...                 False           3   \n",
      "2  Seafood, Asian, Filipino, Indian  ...                 False           4   \n",
      "3                   Japanese, Sushi  ...                 False           4   \n",
      "4                  Japanese, Korean  ...                 False           4   \n",
      "\n",
      "   Aggregate rating  Rating color  Rating text  Votes  Restaurant Name Length  \\\n",
      "0               4.8    Dark Green    Excellent    314                      16   \n",
      "1               4.5    Dark Green    Excellent    591                      16   \n",
      "2               4.4         Green    Very Good    270                      22   \n",
      "3               4.9    Dark Green    Excellent    365                       4   \n",
      "4               4.8    Dark Green    Excellent    229                      11   \n",
      "\n",
      "   Address Length Has Table Booking Has Online Delivery  \n",
      "0              71                 0                   0  \n",
      "1              67                 0                   0  \n",
      "2              56                 0                   0  \n",
      "3              70                 0                   0  \n",
      "4              64                 0                   0  \n",
      "\n",
      "[5 rows x 25 columns]\n"
     ]
    }
   ],
   "source": [
    "# Encode 'Has Table booking' and 'Has Online delivery' into binary (0, 1)\n",
    "df['Has Table Booking'] = df['Has Table booking'].apply(lambda x: 1 if x == 'Yes' else 0)\n",
    "df['Has Online Delivery'] = df['Has Online delivery'].apply(lambda x: 1 if x == 'Yes' else 0)\n",
    "\n",
    "# Check the updated DataFrame\n",
    "print(df.head())"
   ]
  }
 ],
 "metadata": {
  "kernelspec": {
   "display_name": "Python 3 (ipykernel)",
   "language": "python",
   "name": "python3"
  },
  "language_info": {
   "codemirror_mode": {
    "name": "ipython",
    "version": 3
   },
   "file_extension": ".py",
   "mimetype": "text/x-python",
   "name": "python",
   "nbconvert_exporter": "python",
   "pygments_lexer": "ipython3",
   "version": "3.12.3"
  }
 },
 "nbformat": 4,
 "nbformat_minor": 5
}
