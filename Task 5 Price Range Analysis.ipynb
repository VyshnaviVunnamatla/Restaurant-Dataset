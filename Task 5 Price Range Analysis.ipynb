{
 "cells": [
  {
   "cell_type": "markdown",
   "id": "5323eba4-8dc7-4112-89af-533d6502f800",
   "metadata": {},
   "source": [
    "# Task: Price Range Analysis"
   ]
  },
  {
   "cell_type": "code",
   "execution_count": 3,
   "id": "9263e656-a540-4fdc-9949-d0a0a97b8f40",
   "metadata": {},
   "outputs": [
    {
     "name": "stdout",
     "output_type": "stream",
     "text": [
      "Restaurant ID           0\n",
      "Restaurant Name         0\n",
      "Country Code            0\n",
      "City                    0\n",
      "Address                 0\n",
      "Locality                0\n",
      "Locality Verbose        0\n",
      "Longitude               0\n",
      "Latitude                0\n",
      "Cuisines                0\n",
      "Average Cost for two    0\n",
      "Currency                0\n",
      "Has Table booking       0\n",
      "Has Online delivery     0\n",
      "Is delivering now       0\n",
      "Switch to order menu    0\n",
      "Price range             0\n",
      "Aggregate rating        0\n",
      "Rating color            0\n",
      "Rating text             0\n",
      "Votes                   0\n",
      "dtype: int64\n",
      "Restaurant ID              int64\n",
      "Restaurant Name         category\n",
      "Country Code               int64\n",
      "City                    category\n",
      "Address                 category\n",
      "Locality                category\n",
      "Locality Verbose        category\n",
      "Longitude                float64\n",
      "Latitude                 float64\n",
      "Cuisines                category\n",
      "Average Cost for two       int64\n",
      "Currency                category\n",
      "Has Table booking           bool\n",
      "Has Online delivery         bool\n",
      "Is delivering now           bool\n",
      "Switch to order menu        bool\n",
      "Price range                int64\n",
      "Aggregate rating         float64\n",
      "Rating color            category\n",
      "Rating text             category\n",
      "Votes                      int64\n",
      "dtype: object\n"
     ]
    }
   ],
   "source": [
    "import pandas as pd\n",
    "df = pd.read_csv('Dataset .csv')\n",
    "\n",
    "#handle missing values\n",
    "# Replace NaN values in 'Cuisines' column with the mode of the column\n",
    "df['Cuisines'] = df['Cuisines'].fillna(df['Cuisines'].mode()[0])\n",
    "missing_values = df.isnull().sum()\n",
    "print(missing_values)\n",
    "\n",
    "# Convert categorical columns to 'category' type\n",
    "categorical_columns = [ \"Restaurant Name\", \"City\", \"Address\", \"Locality\", \"Locality Verbose\",\"Cuisines\", \"Currency\", \"Rating color\", \"Rating text\" ]\n",
    "df[categorical_columns] = df[categorical_columns].astype('category')\n",
    "\n",
    "# Convert binary columns to boolean type (assuming \"Yes\"/\"No\" values)\n",
    "binary_columns = [\"Has Table booking\", \"Has Online delivery\", \"Is delivering now\", \"Switch to order menu\"]\n",
    "df[binary_columns] = df[binary_columns].map(lambda x: True if x == \"Yes\" else False)\n",
    "print(df.dtypes)"
   ]
  },
  {
   "cell_type": "markdown",
   "id": "4555b087-ca2c-4128-99c6-84e3d8d588fa",
   "metadata": {},
   "source": [
    "### 1. Determining the most common price range among all the restaurants"
   ]
  },
  {
   "cell_type": "code",
   "execution_count": 15,
   "id": "fa15dca8-a002-491c-91ce-de5695309800",
   "metadata": {},
   "outputs": [
    {
     "name": "stdout",
     "output_type": "stream",
     "text": [
      "Most common price range: 1\n"
     ]
    }
   ],
   "source": [
    "most_common_price_range = df['Price range'].mode()[0]\n",
    "print(f\"Most common price range: {most_common_price_range}\")"
   ]
  },
  {
   "cell_type": "markdown",
   "id": "e6bac0bd-00c8-48b0-92d1-014cf4435fb4",
   "metadata": {},
   "source": [
    "### 2. Calculating the average rating for each price range"
   ]
  },
  {
   "cell_type": "code",
   "execution_count": 16,
   "id": "2e0eb60b-bd2d-4628-8d26-c2778a3a6522",
   "metadata": {},
   "outputs": [
    {
     "name": "stdout",
     "output_type": "stream",
     "text": [
      "Average rating for each price range:\n",
      "Price range\n",
      "1    1.999887\n",
      "2    2.941054\n",
      "3    3.683381\n",
      "4    3.817918\n",
      "Name: Aggregate rating, dtype: float64\n"
     ]
    }
   ],
   "source": [
    "average_rating_by_price_range = df.groupby('Price range')['Aggregate rating'].mean()\n",
    "print(f\"Average rating for each price range:\\n{average_rating_by_price_range}\")"
   ]
  },
  {
   "cell_type": "code",
   "execution_count": 19,
   "id": "b28de78f-ceab-4498-a51e-255c6f4eabf6",
   "metadata": {},
   "outputs": [
    {
     "data": {
      "image/png": "[encoded data removed]",
      "text/plain": [
       "<Figure size 800x600 with 1 Axes>"
      ]
     },
     "metadata": {},
     "output_type": "display_data"
    }
   ],
   "source": [
    "import matplotlib.pyplot as plt\n",
    "import seaborn as sns\n",
    "\n",
    "# Visualization: Plot the average rating for each price range\n",
    "plt.figure(figsize=(8, 6))\n",
    "sns.barplot(x=average_rating_by_price_range.index, y=average_rating_by_price_range.values, hue=average_rating_by_price_range.index, palette='coolwarm', legend=False)\n",
    "plt.title('Average Rating by Price Range')\n",
    "plt.xlabel('Price Range')\n",
    "plt.ylabel('Average Rating')\n",
    "plt.show()"
   ]
  },
  {
   "cell_type": "markdown",
   "id": "1705ddb1-615d-4ce1-a39b-18e3e7e0e8f7",
   "metadata": {},
   "source": [
    "### 3. Identifying the color representing the highest average rating among price ranges"
   ]
  },
  {
   "cell_type": "code",
   "execution_count": 20,
   "id": "d070c1eb-1fc7-4c16-9831-ff6584f68666",
   "metadata": {},
   "outputs": [
    {
     "name": "stdout",
     "output_type": "stream",
     "text": [
      "Price range with the highest average rating: 4 with a rating of 3.8179180887372017\n"
     ]
    }
   ],
   "source": [
    "# the price range with the highest average rating\n",
    "highest_avg_rating_price_range = average_rating_by_price_range.idxmax()\n",
    "highest_avg_rating = average_rating_by_price_range.max()\n",
    "\n",
    "print(f\"Price range with the highest average rating: {highest_avg_rating_price_range} with a rating of {highest_avg_rating}\")"
   ]
  }
 ],
 "metadata": {
  "kernelspec": {
   "display_name": "Python 3 (ipykernel)",
   "language": "python",
   "name": "python3"
  },
  "language_info": {
   "codemirror_mode": {
    "name": "ipython",
    "version": 3
   },
   "file_extension": ".py",
   "mimetype": "text/x-python",
   "name": "python",
   "nbconvert_exporter": "python",
   "pygments_lexer": "ipython3",
   "version": "3.12.3"
  }
 },
 "nbformat": 4,
 "nbformat_minor": 5
}
